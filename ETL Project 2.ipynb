{
 "cells": [
  {
   "cell_type": "code",
   "execution_count": null,
   "id": "35d5859d",
   "metadata": {},
   "outputs": [],
   "source": [
    "# Importing the required libraries\n",
    "import pandas as pd\n",
    "from sqlalchemy import create_engine"
   ]
  },
  {
   "cell_type": "code",
   "execution_count": null,
   "id": "b92b0ece",
   "metadata": {},
   "outputs": [],
   "source": [
    "# csv paths\n",
    "maven = \"Maven Airbnb reviews/Listingst.csv\"\n",
    "kaggle = \"Kaggle NYC airbnb/AB_NYC_2019.csv\"\n",
    "\n",
    "# read csv\n",
    "m_csv = pd.read_csv(maven, low_memory=False)\n",
    "k_csv = pd.read_csv(kaggle)"
   ]
  },
  {
   "cell_type": "code",
   "execution_count": null,
   "id": "d1c69d3b",
   "metadata": {},
   "outputs": [],
   "source": [
    "m_csv.head()"
   ]
  },
  {
   "cell_type": "code",
   "execution_count": null,
   "id": "eea6247f",
   "metadata": {},
   "outputs": [],
   "source": [
    "k_csv.head()"
   ]
  },
  {
   "cell_type": "code",
   "execution_count": null,
   "id": "ab5076e8",
   "metadata": {},
   "outputs": [],
   "source": [
    "# Choose the needed columns for the dataframe\n",
    "k_df = k_csv[[\n",
    "    \"id\",\n",
    "    \"name\",\n",
    "    \"host_name\",\n",
    "    \"neighbourhood_group\",\n",
    "    \"neighbourhood\",\n",
    "    \"room_type\",\n",
    "    \"price\"\n",
    "]]\n",
    "m_df = m_csv[[\n",
    "    \"listing_id\",\n",
    "    \"name\", \"host_since\",\n",
    "    \"host_total_listings_count\",\n",
    "    \"neighbourhood\",\n",
    "    \"district\",\n",
    "    \"city\",\n",
    "    \"property_type\",\n",
    "    \"accommodates\",\n",
    "    \"review_scores_accuracy\",\n",
    "    \"review_scores_cleanliness\",\n",
    "    \"review_scores_location\"\n",
    "]]"
   ]
  },
  {
   "cell_type": "code",
   "execution_count": null,
   "id": "cff096df",
   "metadata": {},
   "outputs": [],
   "source": [
    "# Filter the maven sheet for New York data only\n",
    "maven = m_df.loc[m_df[\"city\"] == \"New York\"]"
   ]
  },
  {
   "cell_type": "code",
   "execution_count": null,
   "id": "91f6fce1",
   "metadata": {},
   "outputs": [],
   "source": [
    "# The maven filtered dataframe\n",
    "maven.head()"
   ]
  },
  {
   "cell_type": "code",
   "execution_count": null,
   "id": "179bbce4",
   "metadata": {},
   "outputs": [],
   "source": [
    "# The kaggle dataframe\n",
    "k_df"
   ]
  },
  {
   "cell_type": "code",
   "execution_count": null,
   "id": "32fb9f32",
   "metadata": {},
   "outputs": [],
   "source": [
    "# The dataframes are: maven & k_df\n",
    "## Checking unique values for: maven[district] & kaggle[neighbourhood_group]\n",
    "maven[\"district\"].unique()"
   ]
  },
  {
   "cell_type": "code",
   "execution_count": null,
   "id": "0640e775",
   "metadata": {},
   "outputs": [],
   "source": [
    "k_df[\"neighbourhood_group\"].unique()"
   ]
  },
  {
   "cell_type": "code",
   "execution_count": null,
   "id": "390e0ce5",
   "metadata": {},
   "outputs": [],
   "source": [
    "## Checking unique values for: maven[neighbourhood] & kaggle[neighbourhood]\n",
    "list_maven = []\n",
    "maven_values = maven[\"neighbourhood\"].unique()\n",
    "for x in maven_values:\n",
    "    list_maven.append(x)\n",
    "    \n",
    "list_kaggle = []\n",
    "kaggle_values = k_df[\"neighbourhood\"].unique()\n",
    "for x in kaggle_values:\n",
    "    list_kaggle.append(x)\n"
   ]
  },
  {
   "cell_type": "code",
   "execution_count": null,
   "id": "26eb146a",
   "metadata": {},
   "outputs": [],
   "source": [
    "# checking for the outliers, to be removed from the kaggle dataframe\n",
    "outliers = []\n",
    "for x in list_kaggle:\n",
    "    if not x in list_maven:\n",
    "        outliers.append(x)\n",
    "        \n",
    "outliers"
   ]
  },
  {
   "cell_type": "code",
   "execution_count": null,
   "id": "ff998835",
   "metadata": {},
   "outputs": [],
   "source": [
    "# Deleting the outliers from kaggle so the datasets would match\n",
    "kaggle = k_df.loc[\n",
    "    (k_df['neighbourhood'] != \"Bay Terrace, Staten Island\")\n",
    "    &\n",
    "    (k_df['neighbourhood'] != \"Breezy Point\")\n",
    "    &\n",
    "    (k_df['neighbourhood'] != \"Neponsit\")\n",
    "]\n",
    "\n",
    "list_kaggle_new = []\n",
    "kaggle_check = kaggle['neighbourhood'].unique()\n",
    "for x in kaggle_check:\n",
    "    list_kaggle_new.append(x)\n",
    "    \n",
    "list_kaggle_new.sort()\n",
    "list_kaggle_new"
   ]
  },
  {
   "cell_type": "code",
   "execution_count": null,
   "id": "3f33ecc0",
   "metadata": {},
   "outputs": [],
   "source": [
    "# Renaming columns in both dataframes\n",
    "kaggle_final = kaggle.rename(columns = {\n",
    "    \"id\" : \"kid\",\n",
    "    \"name\" : \"kaggle_house_description\",\n",
    "    \"host_name\" : \"host_name\",\n",
    "    \"neighbourhood_group\" : \"district\",\n",
    "    \"neighbourhood\" : \"neighbourhood\",\n",
    "    \"room_type\" : \"room_type\",\n",
    "    \"price\" : \"price_$\"\n",
    "})\n",
    "\n",
    "maven_final = maven.rename(columns = {\n",
    "    \"listing_id\" : \"mid\",\n",
    "    \"name\" : \"maven_house_description\",\n",
    "    \"host_since\" : \"first_on_market\",\n",
    "    \"host_total_listings_count\" : \"listing_count\",\n",
    "    \"neighbourhood\" : \"neighbourhood\",\n",
    "    \"district\" : \"district\",\n",
    "    \"city\" : \"city\",\n",
    "    \"property_type\" : \"property_type\",\n",
    "    \"accommodates\" : \"number_of_tenants_allowed\",\n",
    "    \"review_scores_accuracy\" : \"total_review\",\n",
    "    \"review_scores_cleanliness\" : \"cleanliness_review\",\n",
    "    \"review_scores_location\" : \"location_review\"\n",
    "})"
   ]
  },
  {
   "cell_type": "code",
   "execution_count": null,
   "id": "167c9f06",
   "metadata": {},
   "outputs": [],
   "source": [
    "kaggle_final.head()"
   ]
  },
  {
   "cell_type": "code",
   "execution_count": null,
   "id": "ecbe13df",
   "metadata": {},
   "outputs": [],
   "source": [
    "maven_final.head()"
   ]
  },
  {
   "cell_type": "code",
   "execution_count": null,
   "id": "b486065b",
   "metadata": {},
   "outputs": [],
   "source": [
    "# Connect to database\n",
    "protocol = 'postgresql'\n",
    "username = 'postgres'\n",
    "password = 'Ruchi0619'\n",
    "host = 'localhost'\n",
    "port = 5432\n",
    "database_name = 'Airbnb'\n",
    "rds_connection_string = f'{protocol}://{username}:{password}@{host}:{port}/{database_name}'\n",
    "engine = create_engine(rds_connection_string)"
   ]
  },
  {
   "cell_type": "code",
   "execution_count": null,
   "id": "9229f512",
   "metadata": {},
   "outputs": [],
   "source": [
    "maven_final.to_sql(name='maven_final', con=engine, if_exists='append', index=False)\n",
    "kaggle_final.to_sql(name='kaggle_final', con=engine, if_exists='append', index=False)"
   ]
  },
  {
   "cell_type": "code",
   "execution_count": null,
   "id": "55dc3ed6",
   "metadata": {},
   "outputs": [],
   "source": [
    "pd.read_sql_query('select * from kaggle_final', con=engine).head()"
   ]
  },
  {
   "cell_type": "code",
   "execution_count": null,
   "id": "24ff7026",
   "metadata": {},
   "outputs": [],
   "source": [
    "pd.read_sql_query('select * from kaggle_final', con=engine).head()"
   ]
  },
  {
   "cell_type": "code",
   "execution_count": null,
   "id": "8c2190c0",
   "metadata": {},
   "outputs": [],
   "source": []
  }
 ],
 "metadata": {
  "kernelspec": {
   "display_name": "Python 3 (ipykernel)",
   "language": "python",
   "name": "python3"
  },
  "language_info": {
   "codemirror_mode": {
    "name": "ipython",
    "version": 3
   },
   "file_extension": ".py",
   "mimetype": "text/x-python",
   "name": "python",
   "nbconvert_exporter": "python",
   "pygments_lexer": "ipython3",
   "version": "3.9.7"
  }
 },
 "nbformat": 4,
 "nbformat_minor": 5
}
